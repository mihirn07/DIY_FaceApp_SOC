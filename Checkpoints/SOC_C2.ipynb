{
  "nbformat": 4,
  "nbformat_minor": 0,
  "metadata": {
    "colab": {
      "name": "SOC_C2.ipynb",
      "provenance": [],
      "authorship_tag": "ABX9TyMAwgBspsGjPS4r//5C+EFb",
      "include_colab_link": true
    },
    "kernelspec": {
      "name": "python3",
      "display_name": "Python 3"
    },
    "language_info": {
      "name": "python"
    }
  },
  "cells": [
    {
      "cell_type": "markdown",
      "metadata": {
        "id": "view-in-github",
        "colab_type": "text"
      },
      "source": [
        "<a href=\"https://colab.research.google.com/github/mihirn07/DIY_FaceApp_SOC/blob/main/Checkpoints/SOC_C2.ipynb\" target=\"_parent\"><img src=\"https://colab.research.google.com/assets/colab-badge.svg\" alt=\"Open In Colab\"/></a>"
      ]
    },
    {
      "cell_type": "code",
      "metadata": {
        "id": "8MjzVSL5py-C"
      },
      "source": [
        "import numpy as np\n",
        "import pandas as pd\n",
        "import matplotlib.pyplot as plt\n",
        "import seaborn as sns\n",
        "import torch\n",
        "import torchvision.datasets as datasets \n",
        "import torchvision.transforms as transforms\n",
        "import torch.nn.functional as F\n",
        "import torch.optim as optim\n",
        "import torch.nn as nn"
      ],
      "execution_count": 35,
      "outputs": []
    },
    {
      "cell_type": "code",
      "metadata": {
        "id": "uhfS2_B3p8sD"
      },
      "source": [
        "if torch.cuda.is_available():\n",
        "  tensor = tensor.to('cuda')"
      ],
      "execution_count": 36,
      "outputs": []
    },
    {
      "cell_type": "code",
      "metadata": {
        "id": "zmEl_DvoqARI"
      },
      "source": [
        "transform = transforms.Compose([transforms.ToTensor(), transforms.Normalize((0.5,), (0.5,)),])\n",
        "\n",
        "trainset = datasets.MNIST(root='./data', train=True, download=True, transform=transform)\n",
        "train_loader = torch.utils.data.DataLoader(trainset, batch_size=10, shuffle=True)\n",
        "\n",
        "testset = datasets.MNIST(root='./data', train=False, download=True, transform=transform)\n",
        "test_loader = torch.utils.data.DataLoader(testset, batch_size=10, shuffle=True)"
      ],
      "execution_count": 37,
      "outputs": []
    },
    {
      "cell_type": "code",
      "metadata": {
        "id": "gOXJmdqXLMUo"
      },
      "source": [
        "class LeNet(nn.Module):\n",
        "    def __init__(self):\n",
        "        super().__init__()\n",
        "        self.conv1=nn.Conv2d(1,6,5)  \n",
        "        self.pool=nn.MaxPool2d(2,2)\n",
        "        self.conv2=nn.Conv2d(6,16,3)\n",
        "        self.fc1=nn.Linear(16*5*5,120)\n",
        "        self.fc2=nn.Linear(120,84)\n",
        "        self.fc3=nn.Linear(84,10)\n",
        "        self.dropout=nn.Dropout2d(0.25)\n",
        "        \n",
        "    def forward(self,x):\n",
        "        x=self.pool(F.relu(self.conv1(x)))\n",
        "        x=self.pool(F.relu(self.conv2(x)))\n",
        "        x=torch.flatten(x,1)\n",
        "        x=F.relu(self.fc1(x))\n",
        "        x=F.relu(self.fc2(x))\n",
        "        return x\n",
        "  \n",
        "model=LeNet().to(device)"
      ],
      "execution_count": 25,
      "outputs": []
    },
    {
      "cell_type": "code",
      "metadata": {
        "id": "0nqhsM3DLzXg",
        "colab": {
          "base_uri": "https://localhost:8080/"
        },
        "outputId": "52c07340-b2d7-4040-8318-7751e9de2d6c"
      },
      "source": [
        "loss_criteria = nn.CrossEntropyLoss()\n",
        "optimizer = optim.Adam(model.parameters(),lr=0.001)\n",
        "epoch = 30\n",
        "\n",
        "for epoch in range(epoch):\n",
        "    running_loss=0.0\n",
        "    for i,data in enumerate(train_loader,0):\n",
        "        inputs,labels = data\n",
        "        inputs=inputs.to(device)\n",
        "        labels=labels.to(device)\n",
        "        optimizer.zero_grad()\n",
        "        output = model(inputs)\n",
        "        loss = loss_criteria(output,labels)\n",
        "        loss.backward()\n",
        "        optimizer.step()\n",
        "        running_loss += loss.item()\n",
        "        if i % 3000 == 2999:\n",
        "            print(epoch + 1, i + 1, running_loss / 3000)\n",
        "            running_loss = 0.0"
      ],
      "execution_count": 38,
      "outputs": [
        {
          "output_type": "stream",
          "text": [
            "1 3000 0.4483387185252524\n",
            "1 6000 0.4462003437695358\n",
            "2 3000 0.4457260220687573\n",
            "2 6000 0.4422601880422746\n",
            "3 3000 0.45551429185260833\n",
            "3 6000 0.4463118399997694\n",
            "4 3000 0.438827142336862\n",
            "4 6000 0.4479243189695153\n",
            "5 3000 0.4400752929732212\n",
            "5 6000 0.45080818938919665\n",
            "6 3000 0.44744016925610536\n",
            "6 6000 0.4458959480393503\n",
            "7 3000 0.4393732361893625\n",
            "7 6000 0.45376630211906416\n",
            "8 3000 0.4323159219307959\n",
            "8 6000 0.4602830777912158\n",
            "9 3000 0.44434312512579244\n",
            "9 6000 0.44845976460780623\n",
            "10 3000 0.4420626357022311\n",
            "10 6000 0.44958515368877944\n",
            "11 3000 0.4387314313616386\n",
            "11 6000 0.4535323242916463\n",
            "12 3000 0.4411535055804242\n",
            "12 6000 0.45159081401114987\n",
            "13 3000 0.4466304697711219\n",
            "13 6000 0.44533882776384365\n",
            "14 3000 0.4457942353227695\n",
            "14 6000 0.4412994498127608\n",
            "15 3000 0.44555780568694253\n",
            "15 6000 0.4450452941729002\n",
            "16 3000 0.4516259913257078\n",
            "16 6000 0.4399984932657335\n",
            "17 3000 0.45170150300495243\n",
            "17 6000 0.44341484723051644\n",
            "18 3000 0.44638850229087645\n",
            "18 6000 0.4439722282280445\n",
            "19 3000 0.44184700723259757\n",
            "19 6000 0.45208006897237174\n",
            "20 3000 0.4368191323448313\n",
            "20 6000 0.4547311328905889\n",
            "21 3000 0.4442542223268588\n",
            "21 6000 0.44629409307597034\n",
            "22 3000 0.4446054655819811\n",
            "22 6000 0.44921073869664585\n",
            "23 3000 0.4450069016356685\n",
            "23 6000 0.44489508087456764\n",
            "24 3000 0.454254517989317\n",
            "24 6000 0.4385138840930191\n",
            "25 3000 0.4359960954662905\n",
            "25 6000 0.45449488463830895\n",
            "26 3000 0.4474919492867496\n",
            "26 6000 0.44959261895648495\n",
            "27 3000 0.4380574088661835\n",
            "27 6000 0.4529340590354564\n",
            "28 3000 0.44617346225616683\n",
            "28 6000 0.4488273194801469\n",
            "29 3000 0.4535422659931801\n",
            "29 6000 0.44434945079472393\n",
            "30 3000 0.4441969688844625\n",
            "30 6000 0.4484299858698036\n"
          ],
          "name": "stdout"
        }
      ]
    },
    {
      "cell_type": "code",
      "metadata": {
        "colab": {
          "base_uri": "https://localhost:8080/"
        },
        "id": "rt8rrt46riZR",
        "outputId": "fbd3a77c-4be1-4ed1-d3f4-355db50edce8"
      },
      "source": [
        "correct = 0\n",
        "total = 0\n",
        "for data in test_loader:\n",
        "    inputs,labels = data[0].to(device),data[1].to(device)\n",
        "    outputs = model(inputs)\n",
        "    _,predicted = torch.max(outputs.data,1)\n",
        "    total += labels.size(0)\n",
        "    correct += (predicted == labels).sum().item()\n",
        "print(\"Accuracy \", (100*correct/total))"
      ],
      "execution_count": 39,
      "outputs": [
        {
          "output_type": "stream",
          "text": [
            "Accuracy  89.61\n"
          ],
          "name": "stdout"
        }
      ]
    }
  ]
}